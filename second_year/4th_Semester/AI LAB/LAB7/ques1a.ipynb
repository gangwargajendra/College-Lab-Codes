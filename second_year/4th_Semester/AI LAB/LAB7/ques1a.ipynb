{
 "cells": [
  {
   "cell_type": "code",
   "execution_count": 2,
   "id": "888463c8-4cb9-4166-bf11-9769c011f2aa",
   "metadata": {},
   "outputs": [
    {
     "name": "stdout",
     "output_type": "stream",
     "text": [
      "===== TSP Input Guide =====\n",
      "Enter the number of cities (n, 2 ≤ n ≤ 10):\n"
     ]
    },
    {
     "name": "stdin",
     "output_type": "stream",
     "text": [
      " 4\n"
     ]
    },
    {
     "name": "stdout",
     "output_type": "stream",
     "text": [
      "\n",
      "Enter the 4xn cost matrix (symmetric with 0 diagonal).\n",
      "Example for n=3:\n",
      "0 10 15\n",
      "10 0 20\n",
      "15 20 0\n",
      "\n",
      "Input your matrix row by row:\n",
      "Row 0 (4 space-separated integers):\n"
     ]
    },
    {
     "name": "stdin",
     "output_type": "stream",
     "text": [
      " 0 10 15 20\n"
     ]
    },
    {
     "name": "stdout",
     "output_type": "stream",
     "text": [
      "Row 1 (4 space-separated integers):\n"
     ]
    },
    {
     "name": "stdin",
     "output_type": "stream",
     "text": [
      " 10 0 35 25\n"
     ]
    },
    {
     "name": "stdout",
     "output_type": "stream",
     "text": [
      "Row 2 (4 space-separated integers):\n"
     ]
    },
    {
     "name": "stdin",
     "output_type": "stream",
     "text": [
      " 15 35 0 30\n"
     ]
    },
    {
     "name": "stdout",
     "output_type": "stream",
     "text": [
      "Row 3 (4 space-separated integers):\n"
     ]
    },
    {
     "name": "stdin",
     "output_type": "stream",
     "text": [
      " 20 25 30 0\n"
     ]
    },
    {
     "name": "stdout",
     "output_type": "stream",
     "text": [
      "\n",
      "===== Your Input =====\n",
      "Number of cities: 4\n",
      "Cost matrix:\n",
      "0 10 15 20\n",
      "10 0 35 25\n",
      "15 35 0 30\n",
      "20 25 30 0\n",
      "======================\n",
      "\n",
      "\n",
      "Hill-climbing starts...\n",
      "Hill climbing terminates...\n",
      "\n",
      "Hill Climbing Solution:\n",
      "Route: 0 -> 2 -> 3 -> 1 -> 0\n",
      "Cost: 80\n",
      "\n",
      "Simulated annealing starts...\n",
      "Simulated annealing terminates...\n",
      "\n",
      "Simulated Annealing Solution:\n",
      "Route: 0 -> 1 -> 3 -> 2 -> 0\n",
      "Cost: 80\n"
     ]
    }
   ],
   "source": [
    "import math\n",
    "import random\n",
    "\n",
    "def calculate_cost(tour, cost_matrix):\n",
    "    total = 0\n",
    "    for i in range(len(tour) - 1):\n",
    "        a = tour[i]\n",
    "        b = tour[i + 1]\n",
    "        total += cost_matrix[a][b]\n",
    "    return total\n",
    "\n",
    "def generate_initial_tour(n):\n",
    "    cities = list(range(1, n))\n",
    "    random.shuffle(cities)\n",
    "    return [0] + cities + [0]\n",
    "\n",
    "def generate_all_neighbors(tour):\n",
    "    neighbors = []\n",
    "    for i in range(1, len(tour) - 1):\n",
    "        for j in range(i + 1, len(tour) - 1):\n",
    "            new_tour = tour.copy()\n",
    "            new_tour[i], new_tour[j] = new_tour[j], new_tour[i]\n",
    "            neighbors.append(new_tour)\n",
    "    return neighbors\n",
    "\n",
    "def hill_climbing(n, cost_matrix):\n",
    "    print(\"\\nHill-climbing starts...\")\n",
    "    current_tour = generate_initial_tour(n)\n",
    "    current_cost = calculate_cost(current_tour, cost_matrix)\n",
    "    while True:\n",
    "        neighbors = generate_all_neighbors(current_tour)\n",
    "        if not neighbors:\n",
    "            break\n",
    "        best_neighbor = None\n",
    "        best_neighbor_cost = float('inf')\n",
    "        for neighbor in neighbors:\n",
    "            cost = calculate_cost(neighbor, cost_matrix)\n",
    "            if cost < best_neighbor_cost:\n",
    "                best_neighbor_cost = cost\n",
    "                best_neighbor = neighbor\n",
    "        if best_neighbor_cost < current_cost:\n",
    "            current_tour = best_neighbor\n",
    "            current_cost = best_neighbor_cost\n",
    "        else:\n",
    "            break\n",
    "    print(\"Hill climbing terminates...\")\n",
    "    return current_tour, current_cost\n",
    "\n",
    "def generate_random_neighbor(tour):\n",
    "    middle_part_indices = list(range(1, len(tour) - 1))\n",
    "    if len(middle_part_indices) < 2:\n",
    "        return tour.copy()\n",
    "    i, j = random.sample(middle_part_indices, 2)\n",
    "    new_tour = tour.copy()\n",
    "    new_tour[i], new_tour[j] = new_tour[j], new_tour[i]\n",
    "    return new_tour\n",
    "\n",
    "def simulated_annealing(n, cost_matrix, T=1000.0, alpha=0.995, K=None):\n",
    "    print(\"\\nSimulated annealing starts...\")\n",
    "    if K is None:\n",
    "        K = 100 * n * n\n",
    "    current_tour = generate_initial_tour(n)\n",
    "    current_cost = calculate_cost(current_tour, cost_matrix)\n",
    "    best_tour = current_tour.copy()\n",
    "    best_cost = current_cost\n",
    "    for _ in range(K):\n",
    "        neighbor = generate_random_neighbor(current_tour)\n",
    "        neighbor_cost = calculate_cost(neighbor, cost_matrix)\n",
    "        delta = neighbor_cost - current_cost\n",
    "        if delta < 0 or (random.random() < math.exp(-delta / T)):\n",
    "            current_tour = neighbor\n",
    "            current_cost = neighbor_cost\n",
    "            if current_cost < best_cost:\n",
    "                best_tour = current_tour.copy()\n",
    "                best_cost = current_cost\n",
    "        T *= alpha\n",
    "    print(\"Simulated annealing terminates...\")\n",
    "    return best_tour, best_cost\n",
    "\n",
    "def main():\n",
    "    print(\"===== TSP Input Guide =====\")\n",
    "    print(\"Enter the number of cities (n, 2 ≤ n ≤ 10):\")\n",
    "    n = int(input())\n",
    "    \n",
    "    print(f\"\\nEnter the {n}xn cost matrix (symmetric with 0 diagonal).\")\n",
    "    print(\"Example for n=3:\")\n",
    "    print(\"0 10 15\")\n",
    "    print(\"10 0 20\")\n",
    "    print(\"15 20 0\")\n",
    "    print(\"\\nInput your matrix row by row:\")\n",
    "    \n",
    "    cost_matrix = []\n",
    "    for i in range(n):\n",
    "        print(f\"Row {i} ({n} space-separated integers):\")\n",
    "        row = list(map(int, input().split()))\n",
    "        cost_matrix.append(row)\n",
    "    \n",
    "    print(\"\\n===== Your Input =====\")\n",
    "    print(f\"Number of cities: {n}\")\n",
    "    print(\"Cost matrix:\")\n",
    "    for row in cost_matrix:\n",
    "        print(\" \".join(map(str, row)))\n",
    "    print(\"======================\\n\")\n",
    "\n",
    "    # Hill Climbing Solution\n",
    "    hc_tour, hc_cost = hill_climbing(n, cost_matrix)\n",
    "    print(\"\\nHill Climbing Solution:\")\n",
    "    print(\"Route:\", \" -> \".join(map(str, hc_tour)))\n",
    "    print(\"Cost:\", hc_cost)\n",
    "\n",
    "    # Simulated Annealing Solution\n",
    "    sa_tour, sa_cost = simulated_annealing(n, cost_matrix)\n",
    "    print(\"\\nSimulated Annealing Solution:\")\n",
    "    print(\"Route:\", \" -> \".join(map(str, sa_tour)))\n",
    "    print(\"Cost:\", sa_cost)\n",
    "\n",
    "if __name__ == \"__main__\":\n",
    "    main()"
   ]
  },
  {
   "cell_type": "code",
   "execution_count": null,
   "id": "d3ae0d8f-c082-45c3-9b95-d6c71cecffe4",
   "metadata": {},
   "outputs": [],
   "source": []
  }
 ],
 "metadata": {
  "kernelspec": {
   "display_name": "Python [conda env:base] *",
   "language": "python",
   "name": "conda-base-py"
  },
  "language_info": {
   "codemirror_mode": {
    "name": "ipython",
    "version": 3
   },
   "file_extension": ".py",
   "mimetype": "text/x-python",
   "name": "python",
   "nbconvert_exporter": "python",
   "pygments_lexer": "ipython3",
   "version": "3.12.7"
  }
 },
 "nbformat": 4,
 "nbformat_minor": 5
}
