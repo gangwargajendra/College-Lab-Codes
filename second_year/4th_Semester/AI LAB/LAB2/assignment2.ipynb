{
 "cells": [
  {
   "cell_type": "code",
   "execution_count": 44,
   "id": "5ca2439d-7a2f-40ad-9c62-7121760fec14",
   "metadata": {},
   "outputs": [
    {
     "name": "stdout",
     "output_type": "stream",
     "text": [
      "file created successfully.\n",
      "file opened successfully.\n",
      "assignment 2\n"
     ]
    }
   ],
   "source": [
    "file_Object = open(\"example.txt\", \"w\")\n",
    "file_Object.write(\"assignment 2\")\n",
    "print(f\"file created successfully.\")\n",
    "file_Object.close()\n",
    "\n",
    "file_Object = open(\"example.txt\", \"r\")\n",
    "if(file_Object) :\n",
    "    print(\"file opened successfully.\")\n",
    "else :\n",
    "    print(\"file does not open.\")\n",
    "str = file_Object.read()\n",
    "print(str)"
   ]
  },
  {
   "cell_type": "code",
   "execution_count": 49,
   "id": "15d4a3a2-5393-486d-a5ee-864bd7f75552",
   "metadata": {},
   "outputs": [
    {
     "name": "stdin",
     "output_type": "stream",
     "text": [
      "Enter no of character to be read :  5\n"
     ]
    },
    {
     "name": "stdout",
     "output_type": "stream",
     "text": [
      "assig\n"
     ]
    }
   ],
   "source": [
    "num_char = int(input(\"Enter no of character to be read : \"))\n",
    "\n",
    "file_Object = open(\"example.txt\", \"r\")\n",
    "str = file_Object.read(num_char)\n",
    "print(str)"
   ]
  },
  {
   "cell_type": "code",
   "execution_count": 57,
   "id": "0eb71e6a-26a5-4e48-a305-88594c1603d5",
   "metadata": {},
   "outputs": [
    {
     "name": "stdout",
     "output_type": "stream",
     "text": [
      "assignment 2Added line.Added line.Added line.\n",
      "Added line.\n"
     ]
    }
   ],
   "source": [
    "file_Object = open(\"example.txt\", \"a\")\n",
    "file_Object.write(\"\\nAdded line.\")\n",
    "file_Object.close()\n",
    "\n",
    "file_Object = open(\"example.txt\", \"r\")\n",
    "str = file_Object.read()\n",
    "print(str)\n",
    "file_Object.close()"
   ]
  },
  {
   "cell_type": "code",
   "execution_count": 71,
   "id": "6db0dc0d-0e7d-4b62-83c2-b0b36688d285",
   "metadata": {},
   "outputs": [
    {
     "name": "stdout",
     "output_type": "stream",
     "text": [
      "2\n"
     ]
    }
   ],
   "source": [
    "str = \"A girl is playing there badminton.\\nThe scenery is beautiful.\\nThe birds are flying in the sky.\\nThe sky is cloudy.\\nAlphabets consists of vowels and consonants.\"\n",
    "\n",
    "file_Object = open(\"example.txt\", \"w\")\n",
    "file_Object.write(str)\n",
    "file_Object.close()\n",
    "\n",
    "def count_lines_not_starting_with_T():\n",
    "    count = 0\n",
    "    file_Object = open(\"example.txt\", \"r\")\n",
    "    line_str = file_Object.readline()\n",
    "    \n",
    "    while len(line_str) != 0:\n",
    "        if line_str[0] != \"T\":\n",
    "            count += 1\n",
    "        line_str = file_Object.readline()\n",
    "    \n",
    "    file_Object.close()\n",
    "    return count\n",
    "\n",
    "print(count_lines_not_starting_with_T())\n"
   ]
  },
  {
   "cell_type": "code",
   "execution_count": 73,
   "id": "e4e7185d-77df-406c-bf4f-0b53b6655deb",
   "metadata": {},
   "outputs": [
    {
     "name": "stdout",
     "output_type": "stream",
     "text": [
      "written data in new file : \n",
      "A girl is playing there badminton.\n",
      "The scenery is beautiful.\n",
      "The birds are flying in the sky.\n",
      "The sky is cloudy.\n",
      "Alphabets consists of vowels and consonants.\n"
     ]
    }
   ],
   "source": [
    "file_Object = open(\"example.txt\", \"r\")\n",
    "str = file_Object.read()\n",
    "file_Object.close()\n",
    "\n",
    "file_Object1 = open(\"example1.txt\", \"w\")\n",
    "file_Object1.write(str)\n",
    "file_Object1.close()\n",
    "\n",
    "file_Object1 = open(\"example1.txt\", \"r\")\n",
    "str = file_Object1.read()\n",
    "print(\"written data in new file : \")\n",
    "print(str)\n",
    "file_Object1.close()"
   ]
  },
  {
   "cell_type": "code",
   "execution_count": 75,
   "id": "5ee5e6c5-a6ff-4373-88ed-c4eef74154dd",
   "metadata": {},
   "outputs": [
    {
     "name": "stdin",
     "output_type": "stream",
     "text": [
      "Enter the rows of magrix :  2\n",
      "Enter the columns of matrix :  3\n"
     ]
    },
    {
     "name": "stdout",
     "output_type": "stream",
     "text": [
      "Enter the elements of the matrix:\n"
     ]
    },
    {
     "name": "stdin",
     "output_type": "stream",
     "text": [
      " 1 2 3\n",
      " 4 5 6\n"
     ]
    },
    {
     "name": "stdout",
     "output_type": "stream",
     "text": [
      "Transpose of the matrix:\n",
      "[[1 4]\n",
      " [2 5]\n",
      " [3 6]]\n",
      "Flattened version of the matrix:\n",
      "[1 2 3 4 5 6]\n"
     ]
    }
   ],
   "source": [
    "import numpy as np\n",
    "\n",
    "N = int(input(\"Enter the rows of magrix : \"))\n",
    "M = int(input(\"Enter the columns of matrix : \"))\n",
    "\n",
    "matrix = []\n",
    "\n",
    "print(\"Enter the elements of the matrix:\")\n",
    "for i in range(N):\n",
    "    row = input().split(\" \")\n",
    "    row1 = []\n",
    "    for x in row :\n",
    "        x = int(x)\n",
    "        row1.append(x)\n",
    "    matrix.append(row1)\n",
    "\n",
    "np_matrix = np.array(matrix)\n",
    "\n",
    "transpose_matrix = np_matrix.T\n",
    "\n",
    "flattened_matrix = np_matrix.flatten()\n",
    "\n",
    "print(\"Transpose of the matrix:\")\n",
    "print(transpose_matrix)\n",
    "\n",
    "print(\"Flattened version of the matrix:\")\n",
    "print(flattened_matrix)\n"
   ]
  },
  {
   "cell_type": "code",
   "execution_count": 81,
   "id": "42b77f40-b238-4bca-9584-be857ac28475",
   "metadata": {},
   "outputs": [
    {
     "name": "stdout",
     "output_type": "stream",
     "text": [
      "dimension of first array : 1\n",
      "dimension of second array : 1\n",
      "dimension of first array : (4,)\n",
      "dimension of second array : (4,)\n",
      "dimension of first array : 4\n",
      "dimension of second array : 4\n"
     ]
    }
   ],
   "source": [
    "import numpy as np\n",
    "\n",
    "arr1 = np.array([10, 16, 71, 9])\n",
    "arr2 = np.array([71, 91, 31, 51])\n",
    "\n",
    "dim1 = arr1.ndim\n",
    "dim2 = arr2.ndim\n",
    "\n",
    "print(f\"dimension of first array : {dim1}\")\n",
    "print(f\"dimension of second array : {dim2}\")\n",
    "\n",
    "shape1 = arr1.shape\n",
    "shape2 = arr2.shape\n",
    "\n",
    "print(f\"dimension of first array : {shape1}\")\n",
    "print(f\"dimension of second array : {shape2}\")\n",
    "\n",
    "size1 = arr1.size\n",
    "size2 = arr2.size\n",
    "\n",
    "print(f\"dimension of first array : {size1}\")\n",
    "print(f\"dimension of second array : {size2}\")"
   ]
  },
  {
   "cell_type": "code",
   "execution_count": 117,
   "id": "bbe4cbda-f01e-4c0a-8b66-df3d258483ac",
   "metadata": {},
   "outputs": [
    {
     "name": "stdout",
     "output_type": "stream",
     "text": [
      "first array : [2 7 4 2 6]\n",
      "second array : [9 1 7 5 9]\n",
      "concatenate array : [2 7 4 2 6 9 1 7 5 9]\n",
      "sorted first array : [2 2 4 6 7]\n",
      "sorted second array : [1 5 7 9 9]\n",
      "added array element-wise : [11  8 11  7 15]\n",
      "added array element-wise : [-7  6 -3 -3 -3]\n",
      "added array element-wise : [-7  6 -3 -3 -3]\n",
      "added array element-wise : [0.22222222 7.         0.57142857 0.4        0.66666667]\n"
     ]
    }
   ],
   "source": [
    "import numpy as np\n",
    "from numpy import random\n",
    "\n",
    "arr1 = random.randint(1 ,10, size = (5))\n",
    "arr2 = random.randint(1, 10, size = (5))\n",
    "\n",
    "print(f\"first array : {arr1}\")\n",
    "print(f\"second array : {arr2}\")\n",
    "\n",
    "con_arr = np.concatenate((arr1, arr2))\n",
    "\n",
    "print(f\"concatenate array : {con_arr}\")\n",
    "\n",
    "print(f\"sorted first array : {np.sort(arr1)}\")\n",
    "print(f\"sorted second array : {np.sort(arr2)}\")\n",
    "\n",
    "add_arr = arr1+arr2\n",
    "print(f\"added array element-wise : {add_arr}\")\n",
    "\n",
    "sub_arr = arr1-arr2\n",
    "print(f\"added array element-wise : {sub_arr}\")\n",
    "\n",
    "mul_arr = arr1 -arr2\n",
    "print(f\"added array element-wise : {mul_arr}\")\n",
    "\n",
    "flag = True\n",
    "for x in arr2 :\n",
    "    if x == 0 :\n",
    "        flag = False\n",
    "if flag == False :\n",
    "    print(\"There is Zero in second array.\")\n",
    "else:\n",
    "    div_arr = arr1 / arr2\n",
    "    print(f\"added array element-wise : {div_arr}\")"
   ]
  },
  {
   "cell_type": "code",
   "execution_count": 123,
   "id": "daeb2371-9303-47f0-875d-192d9185f3cd",
   "metadata": {},
   "outputs": [
    {
     "name": "stdout",
     "output_type": "stream",
     "text": [
      "[[64 47 32  1 11 71 73]\n",
      " [65  4 50 27 89 91 30]\n",
      " [46 31 60 52 29 15  7]\n",
      " [32 81 73  5 72 30 80]\n",
      " [61 19 67 74 44 84 19]\n",
      " [84 92 42 97 38 58 61]\n",
      " [93 89  7 51 91  1 94]\n",
      " [16 51 20 15 72 10 52]]\n",
      "feature 1 : min = 16 , max = 93 .\n",
      "feature 2 : min = 4 , max = 92 .\n",
      "feature 3 : min = 7 , max = 73 .\n",
      "feature 4 : min = 1 , max = 97 .\n",
      "feature 5 : min = 11 , max = 91 .\n",
      "feature 6 : min = 1 , max = 91 .\n",
      "feature 7 : min = 7 , max = 94 .\n"
     ]
    }
   ],
   "source": [
    "import numpy as np\n",
    "from numpy import random\n",
    "\n",
    "matrix = random.randint(1 ,100 , size = (8, 7))\n",
    "\n",
    "print(matrix)\n",
    "\n",
    "for i in range (7) :\n",
    "    maxValue = np.max(matrix[:, i])\n",
    "    minValue = np.min(matrix[:, i])\n",
    "    print(f\"feature {i+1} : min = {minValue} , max = {maxValue} .\")"
   ]
  },
  {
   "cell_type": "code",
   "execution_count": 156,
   "id": "c11a1338-0fe6-4707-ab0e-cd1682d868e0",
   "metadata": {},
   "outputs": [
    {
     "name": "stdout",
     "output_type": "stream",
     "text": [
      "matrix : \n",
      "[[ 2 10  6 11  1]\n",
      " [ 5  8 13 11  8]\n",
      " [ 6  7  3  2  4]\n",
      " [18  6  1  5  4]]\n",
      "arr1 : [0 0 0 0 0 0 0 0 0 0]\n",
      "arr2 : [1 1 1 1 1 1 1 1 1 1]\n",
      "arr3 : [5 5 5 5 5 5 5 5 5 5]\n",
      "even array : [10, 12, 14, 16, 18, 20, 22, 24, 26, 28, 30, 32, 34, 36, 38, 40, 42, 44, 46, 48, 50]\n",
      "single random number between 0 and 1 : 1\n"
     ]
    }
   ],
   "source": [
    "import numpy as np\n",
    "from numpy import random\n",
    "\n",
    "matrix = random.randint(1 ,20 , size = (4, 5))\n",
    "print(\"matrix : \")\n",
    "print(matrix)\n",
    "\n",
    "arr1 = random.randint(0,1 , size=(10))\n",
    "print(f\"arr1 : {arr1}\")\n",
    "arr2 = random.randint(1,2 , size=(10))\n",
    "print(f\"arr2 : {arr2}\")\n",
    "arr3 = random.randint(5,6 , size=(10))\n",
    "print(f\"arr3 : {arr3}\")\n",
    "\n",
    "even_arr = []\n",
    "for i in range(10 , 51 , 2) :\n",
    "    even_arr.append(i)\n",
    "\n",
    "arr = np.array(even_arr)\n",
    "print(f\"even array : {even_arr}\")\n",
    "\n",
    "print(f\"single random number between 0 and 1 : {random.randint(0 , 2)}\")\n",
    "\n",
    "file_Object = open(\"matrix.txt\", \"w\")\n",
    "for rows in matrix:\n",
    "    for element in rows :\n",
    "        file_Object.write(f\"{element} \")\n",
    "    file_Object.write(\"\\n\")\n",
    "file_Object.close()"
   ]
  },
  {
   "cell_type": "code",
   "execution_count": null,
   "id": "f21af832-c9d7-47b5-b3c4-e287074db89c",
   "metadata": {},
   "outputs": [],
   "source": []
  },
  {
   "cell_type": "code",
   "execution_count": null,
   "id": "8e8154e9-02ef-4cb8-9fee-701ae35cd46a",
   "metadata": {},
   "outputs": [],
   "source": []
  }
 ],
 "metadata": {
  "kernelspec": {
   "display_name": "Python [conda env:base] *",
   "language": "python",
   "name": "conda-base-py"
  },
  "language_info": {
   "codemirror_mode": {
    "name": "ipython",
    "version": 3
   },
   "file_extension": ".py",
   "mimetype": "text/x-python",
   "name": "python",
   "nbconvert_exporter": "python",
   "pygments_lexer": "ipython3",
   "version": "3.12.7"
  }
 },
 "nbformat": 4,
 "nbformat_minor": 5
}
