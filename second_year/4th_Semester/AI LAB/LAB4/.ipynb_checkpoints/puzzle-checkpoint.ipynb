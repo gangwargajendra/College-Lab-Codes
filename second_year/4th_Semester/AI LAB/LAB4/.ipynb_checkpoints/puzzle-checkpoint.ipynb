{
 "cells": [
  {
   "cell_type": "code",
   "execution_count": 2,
   "id": "301299b7-78c7-4358-98e8-87b28dde0341",
   "metadata": {},
   "outputs": [
    {
     "ename": "SyntaxError",
     "evalue": "invalid syntax. Maybe you meant '==' or ':=' instead of '='? (1557864880.py, line 46)",
     "output_type": "error",
     "traceback": [
      "\u001b[1;36m  Cell \u001b[1;32mIn[2], line 46\u001b[1;36m\u001b[0m\n\u001b[1;33m    if state = self.goal_state:\u001b[0m\n\u001b[1;37m       ^\u001b[0m\n\u001b[1;31mSyntaxError\u001b[0m\u001b[1;31m:\u001b[0m invalid syntax. Maybe you meant '==' or ':=' instead of '='?\n"
     ]
    }
   ],
   "source": [
    "import random\n",
    "import time\n",
    "import matplotlib.pyplot as plt\n",
    "from collections import deque\n",
    "\n",
    "class Puzzle:\n",
    "    def __init__(self, size):\n",
    "        self.n = size\n",
    "        self.goal_state = tuple(range(1, size*size)) + (0,)\n",
    "        self.moves = [(-1, 0), (1,0), (0, -1), (0, 1)]\n",
    "\n",
    "    def generate_initial_state(self, num_states=10):\n",
    "        states = []\n",
    "        for _ in range(num_states):\n",
    "            state = list(self.goal_state)\n",
    "            random.suffle(state)\n",
    "            states.append(tuple(state))\n",
    "        return states\n",
    "\n",
    "    def find_row_col_zero(self, state):\n",
    "        idx = state.indiex(0)\n",
    "        return idx // self.n, idx % self.n     #(first will give row and second will give column)\n",
    "\n",
    "    def get_next_states(self, state):\n",
    "        zero_r, zero_c = self.find_row_col_zero(state)\n",
    "        next_states = []\n",
    "        for move in self.moves:\n",
    "            dr = move[0]\n",
    "            dc = move[1]\n",
    "            new_r = zero_r + dr\n",
    "            new_c = zero_c + dc\n",
    "            if new_r >= 0 and new_r < self.n and new_c >= 0 and new_c < self.n:\n",
    "                new_state = list(state)\n",
    "                swap_tile_idx = new_r * self.n + new_c\n",
    "                zero_inx = zero_r * slef.n + zero_c\n",
    "                new_state[swap_tile_idx] = new_state[zero_idx]\n",
    "                new_state[zero_idx] = new_state[swap_tile_idx]\n",
    "                nex_states.append(tuple(new_state))\n",
    "        return new_states\n",
    "\n",
    "    def bfs(self, starting_state):\n",
    "        queue = deque([(starting_state, 0)])\n",
    "        visited = set()\n",
    "        while queue:\n",
    "            state, depth = queue.popleft()\n",
    "            if state = self.goal_state:\n",
    "                return depth\n",
    "            if state in visited:\n",
    "                continue\n",
    "            for next_state in self.get_next_states(state):\n",
    "                queue.append((next_state, depth + 1))\n",
    "        return -1\n",
    "\n",
    "    def dfs(self, state, depth, mex_depth, visited):\n",
    "        if state == self.goal_state:\n",
    "            return depth\n",
    "        if depth >= max_depth or state in visited:\n",
    "            return -1\n",
    "        visited.add(state)\n",
    "        for next_state in self.get_next_states(state):\n",
    "            result = self.dfs(next_state, depth+1, max_depth, visited)\n",
    "            if result != -1:\n",
    "                return result\n",
    "        visited.remove(state)\n",
    "        return -1\n",
    "\n",
    "    def iterative_deepening(self, start):\n",
    "        depth = 0\n",
    "        while True:\n",
    "            visited = set()\n",
    "            result = self.dfs(start, 0, depth, visited)\n",
    "            if result != -1:\n",
    "                return result\n",
    "            depth += 1\n",
    "\n",
    "    def run"
   ]
  },
  {
   "cell_type": "code",
   "execution_count": null,
   "id": "ad6d2b97-d3af-4799-b984-e3be4857176b",
   "metadata": {},
   "outputs": [],
   "source": []
  }
 ],
 "metadata": {
  "kernelspec": {
   "display_name": "Python [conda env:base] *",
   "language": "python",
   "name": "conda-base-py"
  },
  "language_info": {
   "codemirror_mode": {
    "name": "ipython",
    "version": 3
   },
   "file_extension": ".py",
   "mimetype": "text/x-python",
   "name": "python",
   "nbconvert_exporter": "python",
   "pygments_lexer": "ipython3",
   "version": "3.12.7"
  }
 },
 "nbformat": 4,
 "nbformat_minor": 5
}
