{
 "cells": [
  {
   "cell_type": "code",
   "execution_count": 8,
   "id": "3218f9fe-f4fe-480e-9558-7fbd9d8d26e6",
   "metadata": {},
   "outputs": [
    {
     "name": "stdin",
     "output_type": "stream",
     "text": [
      "ENter first value :  3\n",
      "Ente second value :  4\n",
      "Enter third value :  5\n"
     ]
    },
    {
     "name": "stdout",
     "output_type": "stream",
     "text": [
      "average : 4.0\n"
     ]
    }
   ],
   "source": [
    "a = int(input(\"ENter first value : \"))\n",
    "b = int(input(\"Ente second value : \"))\n",
    "c = int(input(\"Enter third value : \"))\n",
    "avg = (a + b + c)/ 3\n",
    "print(f\"average : {avg}\")"
   ]
  },
  {
   "cell_type": "code",
   "execution_count": 10,
   "id": "ffb0b9c9-f117-475d-ba31-890810cd7715",
   "metadata": {},
   "outputs": [
    {
     "name": "stdout",
     "output_type": "stream",
     "text": [
      "n\n",
      "nuf si gnimmargorp nohty\n",
      "2\n"
     ]
    }
   ],
   "source": [
    "str = \"Python programming is fun\"\n",
    "print(str[-1])\n",
    "\n",
    "str1 = \"\"\n",
    "for i in range (len(str)-1 , 0 , -1):\n",
    "    str1 += str[i]\n",
    "print(str1)\n",
    "\n",
    "cntr = 0\n",
    "for i in range(0 , len(str), 1):\n",
    "    if str[i] == 'i' :\n",
    "        cntr += 1\n",
    "\n",
    "print(cntr)"
   ]
  },
  {
   "cell_type": "code",
   "execution_count": 12,
   "id": "8d60b5ba-d167-4bac-b464-ceb76d2c2826",
   "metadata": {},
   "outputs": [
    {
     "name": "stdout",
     "output_type": "stream",
     "text": [
      "{'a': 12, 'b': 23, 'c': 13}\n"
     ]
    }
   ],
   "source": [
    "names = [\"a\", \"b\", \"c\"]\n",
    "ages = [12, 23, 13]\n",
    "\n",
    "dic = {}\n",
    "\n",
    "for i in range(0 , len(names)) :\n",
    "    name = names[i]\n",
    "    age = ages[i]\n",
    "    dic[name] = age\n",
    "\n",
    "print(dic)"
   ]
  },
  {
   "cell_type": "code",
   "execution_count": 14,
   "id": "f3d7d713-7994-4c03-be8a-97c7b561e125",
   "metadata": {},
   "outputs": [
    {
     "name": "stdout",
     "output_type": "stream",
     "text": [
      "1\n",
      "3\n",
      "5\n",
      "7\n",
      "sum of even numbers : 20\n"
     ]
    }
   ],
   "source": [
    "list = [1, 2, 3, 4, 5, 6, 7, 8]\n",
    "sum_even = 0\n",
    "for num in list :\n",
    "    if num % 2 != 0:\n",
    "        print(num)\n",
    "    else:\n",
    "        sum_even += num\n",
    "\n",
    "print(f\"sum of even numbers : {sum_even}\")"
   ]
  },
  {
   "cell_type": "code",
   "execution_count": 16,
   "id": "5f3474da-368c-4afe-a1a9-b757a933ef3f",
   "metadata": {},
   "outputs": [
    {
     "name": "stdin",
     "output_type": "stream",
     "text": [
      "Enter radius :  5\n"
     ]
    },
    {
     "name": "stdout",
     "output_type": "stream",
     "text": [
      "area is : 78.5\n"
     ]
    }
   ],
   "source": [
    "def cal_area(rad):\n",
    "    area = 3.14 * rad * rad\n",
    "    return round(area, 2)\n",
    "\n",
    "rad = int(input(\"Enter radius : \"))\n",
    "print(f\"area is : {cal_area(rad)}\")"
   ]
  },
  {
   "cell_type": "code",
   "execution_count": 1,
   "id": "d786116b-03ea-465b-97df-101337d708e8",
   "metadata": {},
   "outputs": [
    {
     "name": "stdout",
     "output_type": "stream",
     "text": [
      "this is assignment two. python is the language which is used in this assignment.\n",
      "this is assignment two. javascript is the language which is used in this assignment.\n"
     ]
    }
   ],
   "source": [
    "file_object = open(\"abc.txt\")\n",
    "\n",
    "str = file_object.read()\n",
    "print(str)\n",
    "\n",
    "re_str = str.replace(\"python\", \"javascript\")\n",
    "file_object.close()\n",
    "print(re_str)\n",
    "\n",
    "file_object1 = open(\"xyz.txt\", \"w\")\n",
    "file_object1.write(re_str)\n",
    "file_object1.close()\n"
   ]
  },
  {
   "cell_type": "code",
   "execution_count": 35,
   "id": "e36fd0a8-29ad-4969-bbe6-b962b8e7e312",
   "metadata": {},
   "outputs": [
    {
     "name": "stdout",
     "output_type": "stream",
     "text": [
      "string : this is assignment two.\n",
      "frequency of 'a' : 1\n",
      "frequency of 'e' : 1\n",
      "frequency of 'i' : 3\n",
      "frequency of 'o' : 1\n",
      "frequency of 'u' : 0\n"
     ]
    }
   ],
   "source": [
    "def cal_fre(str) :\n",
    "    fre_a = 0\n",
    "    fre_e = 0\n",
    "    fre_i = 0\n",
    "    fre_o = 0\n",
    "    fre_u = 0\n",
    "    for ch in str :\n",
    "        if ch == \"a\":\n",
    "             fre_a += 1\n",
    "        elif ch == \"e\":\n",
    "            fre_e += 1\n",
    "        elif ch == \"i\" :\n",
    "            fre_i += 1\n",
    "        elif ch == \"o\":\n",
    "            fre_o += 1\n",
    "        elif ch == \"u\":\n",
    "            fre_u += 1\n",
    "\n",
    "    print(f\"frequency of 'a' : {fre_a}\")\n",
    "    print(f\"frequency of 'e' : {fre_e}\")\n",
    "    print(f\"frequency of 'i' : {fre_i}\")\n",
    "    print(f\"frequency of 'o' : {fre_o}\")\n",
    "    print(f\"frequency of 'u' : {fre_u}\")\n",
    "    \n",
    "\n",
    "file_object = open(\"abc.txt\")\n",
    "str = file_object.read()\n",
    "print(f\"string : {str}\")\n",
    "cal_fre(str)"
   ]
  },
  {
   "cell_type": "code",
   "execution_count": 3,
   "id": "d78572a2-e465-4a79-8d96-7743c2a512b8",
   "metadata": {},
   "outputs": [
    {
     "name": "stdout",
     "output_type": "stream",
     "text": [
      "array : \n",
      "[[15  9 12 14 10]\n",
      " [16  3  3  1  3]]\n",
      "reshape array : \n",
      "[[15  9]\n",
      " [12 14]\n",
      " [10 16]\n",
      " [ 3  3]\n",
      " [ 1  3]]\n",
      "mean of reshaped array : 8.6\n",
      "std deviation reshaped array : 5.39\n"
     ]
    }
   ],
   "source": [
    "import numpy as np\n",
    "from numpy import random\n",
    "\n",
    "array = random.randint(1, 20, size=(2, 5))\n",
    "\n",
    "array1 = array.reshape(5, 2)\n",
    "\n",
    "print(\"array : \")\n",
    "print(array)\n",
    "print(\"reshape array : \")\n",
    "print(array1)\n",
    "\n",
    "mean_value = np.mean(array1)\n",
    "std_deviation = np.std(array1)\n",
    "\n",
    "print(f\"mean of reshaped array : {mean_value}\")\n",
    "print(f\"std deviation reshaped array : {round(std_deviation, 2)}\")\n"
   ]
  },
  {
   "cell_type": "code",
   "execution_count": 16,
   "id": "a8ba6629-a634-4da4-88ef-2d6346de26f5",
   "metadata": {},
   "outputs": [
    {
     "name": "stdout",
     "output_type": "stream",
     "text": [
      "  product  price  quantity\n",
      "0       a     15         5\n",
      "1       b     12         6\n",
      "2       c     14         7\n",
      "  product  price  quantity  TotalSales\n",
      "0       a     15         5          75\n",
      "1       b     12         6          72\n",
      "2       c     14         7          98\n",
      "  product  price  quantity  TotalSales\n",
      "1       b     12         6          72\n",
      "0       a     15         5          75\n",
      "2       c     14         7          98\n"
     ]
    }
   ],
   "source": [
    "import pandas\n",
    "\n",
    "data = {\n",
    "    \"product\": [\"a\", \"b\", \"c\"],\n",
    "    \"price\": [15, 12, 14],\n",
    "    \"quantity\": [5, 6, 7],\n",
    "}\n",
    "\n",
    "df = pandas.DataFrame(data)\n",
    "print(df)\n",
    "\n",
    "totalsales = []\n",
    "for i in range(0 , len(df['price'])) :\n",
    "    pri = df['price'][i]\n",
    "    quan = df['quantity'][i]\n",
    "    totalsales.append(pri * quan)\n",
    "\n",
    "df[\"TotalSales\"] = totalsales\n",
    "print(df)\n",
    "\n",
    "# df.sort_values(by=[\"TotalSales\"], ascending=True, inplace=True)\n",
    "df = df.sort_values(by=[\"TotalSales\"], ascending=True)\n",
    "print(df)"
   ]
  },
  {
   "cell_type": "code",
   "execution_count": 9,
   "id": "c46e9517-d02e-46b2-af3a-a01f5b0e4d24",
   "metadata": {},
   "outputs": [
    {
     "name": "stdin",
     "output_type": "stream",
     "text": [
      "Enter the size of matrix :  4\n"
     ]
    },
    {
     "name": "stdout",
     "output_type": "stream",
     "text": [
      "[[4 3 3 2]\n",
      " [4 2 3 1]\n",
      " [3 3 2 2]\n",
      " [4 1 1 4]]\n",
      "inverse of the array : \n",
      "[[-2.83333333  1.66666667  1.66666667  0.16666667]\n",
      " [-1.16666667  0.33333333  1.33333333 -0.16666667]\n",
      " [ 3.83333333 -1.66666667 -2.66666667 -0.16666667]\n",
      " [ 2.16666667 -1.33333333 -1.33333333  0.16666667]]\n"
     ]
    }
   ],
   "source": [
    "import numpy as np\n",
    "from numpy import random\n",
    "\n",
    "n = int(input(\"Enter the size of matrix : \"))\n",
    "array = random.randint(1, 5, size=(n, n))\n",
    "print(array)\n",
    "\n",
    "print(\"inverse of the array : \")\n",
    "print(np.linalg.inv(array))\n"
   ]
  },
  {
   "cell_type": "code",
   "execution_count": 11,
   "id": "0a4fdc34-bfa0-49f2-97fd-fb2353a5046f",
   "metadata": {},
   "outputs": [
    {
     "data": {
      "image/png": "[encoded data removed]",
      "text/plain": [
       "<Figure size 640x480 with 1 Axes>"
      ]
     },
     "metadata": {},
     "output_type": "display_data"
    }
   ],
   "source": [
    "import matplotlib.pyplot as plt\n",
    "data = {\n",
    "    \"a\": 15,\n",
    "    \"b\": 20,\n",
    "    \"c\": 12,\n",
    "}\n",
    "\n",
    "regions = list(data.keys())\n",
    "sales = list(data.values())\n",
    "\n",
    "plt.bar(regions, sales)\n",
    "\n",
    "plt.xlabel(\"Region\")\n",
    "plt.ylabel(\"Total Sales\")\n",
    "\n",
    "plt.title(\"Sales by Region\")\n",
    "\n",
    "plt.show()\n"
   ]
  },
  {
   "cell_type": "code",
   "execution_count": null,
   "id": "c66fb7ff-5c96-41dc-a209-c989ad6422cd",
   "metadata": {},
   "outputs": [],
   "source": []
  }
 ],
 "metadata": {
  "kernelspec": {
   "display_name": "Python [conda env:base] *",
   "language": "python",
   "name": "conda-base-py"
  },
  "language_info": {
   "codemirror_mode": {
    "name": "ipython",
    "version": 3
   },
   "file_extension": ".py",
   "mimetype": "text/x-python",
   "name": "python",
   "nbconvert_exporter": "python",
   "pygments_lexer": "ipython3",
   "version": "3.12.7"
  }
 },
 "nbformat": 4,
 "nbformat_minor": 5
}
