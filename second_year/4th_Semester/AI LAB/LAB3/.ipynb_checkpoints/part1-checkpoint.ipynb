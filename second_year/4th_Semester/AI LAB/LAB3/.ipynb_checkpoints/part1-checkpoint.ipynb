{
 "cells": [
  {
   "cell_type": "code",
   "execution_count": 73,
   "id": "2e01967a-70e4-49f0-a91f-9fa74a48ef4b",
   "metadata": {},
   "outputs": [
    {
     "name": "stdout",
     "output_type": "stream",
     "text": [
      "           Std_Name  Roll_no  CPI\n",
      "0  Gajendra Gangwar       81   85\n",
      "1             Mohan       82   50\n",
      "2             Ravan       86   45\n",
      "3             Ashur       84   90\n",
      "4            Daitya       89   59\n",
      "\n",
      "All rows with CPI greater then 60 : \n",
      "           Std_Name  Roll_no  CPI\n",
      "0  Gajendra Gangwar       81   85\n",
      "3             Ashur       84   90\n",
      "\n",
      "total member : 5\n",
      "0    85\n",
      "1    50\n",
      "2    45\n",
      "3    90\n",
      "4    59\n",
      "Name: CPI, dtype: int64\n",
      "mean of CPI : 65.8\n",
      "median of CPI : 59\n",
      "standard deviation of CPI : 20.51\n"
     ]
    }
   ],
   "source": [
    "import pandas as pd\n",
    "import statistics\n",
    "\n",
    "data = {\n",
    "    \"Std_Name\" : [\"Gajendra Gangwar\", \"Mohan\", \"Ravan\", \"Ashur\", \"Daitya\"],\n",
    "    \"Roll_no\" : [81, 82, 86, 84, 89],\n",
    "    \"CPI\" : [85, 50, 45, 90, 59],\n",
    "}\n",
    "\n",
    "df = pd.DataFrame(data)\n",
    "print(df)\n",
    "\n",
    "print(\"\\nAll rows with CPI greater then 60 : \")\n",
    "filter_df = df[df['CPI'] > 60]\n",
    "\n",
    "print(filter_df)\n",
    "\n",
    "total_member = len(df)\n",
    "print(f\"\\ntotal member : {total_member}\")\n",
    "\n",
    "\n",
    "CPI_col = df[\"CPI\"]\n",
    "print(CPI_col)\n",
    "\n",
    "print(f\"mean of CPI : {statistics.mean(CPI_col)}\")\n",
    "print(f\"median of CPI : {statistics.median(CPI_col)}\")\n",
    "print(f\"standard deviation of CPI : {round(statistics.stdev(CPI_col), 2)}\")"
   ]
  },
  {
   "cell_type": "code",
   "execution_count": 91,
   "id": "c97858b2-db18-4694-9833-925d392bd674",
   "metadata": {},
   "outputs": [
    {
     "name": "stdout",
     "output_type": "stream",
     "text": [
      "  Subjects Book_Authers  No_of_Books\n",
      "0    Math1            A            5\n",
      "1    Math2            B            3\n",
      "2    Math3            C            2\n",
      "3    Math4            D            6\n",
      "4    Math1            E            1\n",
      "  Subjects  No_of_Books\n",
      "0    Math1            6\n",
      "1    Math2            3\n",
      "2    Math3            2\n",
      "3    Math4            6\n"
     ]
    }
   ],
   "source": [
    "import pandas as pd\n",
    "\n",
    "IIITG_Library = {\n",
    "    \"Subjects\" : [\"Math1\", \"Math2\", \"Math3\", \"Math4\", \"Math1\"],\n",
    "    \"Book_Authers\" : [\"A\", \"B\", \"C\", \"D\", \"E\"],\n",
    "    \"No_of_Books\" : [5, 3, 2, 6, 1],\n",
    "}\n",
    "\n",
    "df = pd.DataFrame(IIITG_Library)\n",
    "print(df)\n",
    "\n",
    "total_books_per_subject = df.groupby('Subjects')['No_of_Books'].sum().reset_index()\n",
    "\n",
    "print(total_books_per_subject)"
   ]
  },
  {
   "cell_type": "code",
   "execution_count": 97,
   "id": "cb4db621-9a17-46b9-b5d7-125c597ea8c9",
   "metadata": {},
   "outputs": [
    {
     "name": "stdout",
     "output_type": "stream",
     "text": [
      "Image data has been saved to 'image_pixel_data.csv'.\n",
      "DataFrame excluding the last row and column:\n",
      "           0    1\n",
      "0         31   32\n",
      "1        255   31\n",
      "2         32  255\n",
      "3         32   32\n",
      "4         31   32\n",
      "...      ...  ...\n",
      "2764794   43  255\n",
      "2764795   34   42\n",
      "2764796   31   35\n",
      "2764797  255   30\n",
      "2764798   42  255\n",
      "\n",
      "[2764799 rows x 2 columns]\n"
     ]
    }
   ],
   "source": [
    "import numpy as np\n",
    "import pandas as pd\n",
    "from PIL import Image\n",
    "\n",
    "image = Image.open('./abc.png')\n",
    "image_array = np.array(image)\n",
    "\n",
    "if len(image_array.shape) == 3:\n",
    "    df_image = pd.DataFrame(image_array.reshape(-1, 3))\n",
    "else:\n",
    "    df_image = pd.DataFrame(image_array)\n",
    "\n",
    "df_image.to_csv('image_pixel_data.csv', index=False)\n",
    "\n",
    "print(\"Image data has been saved to 'image_pixel_data.csv'.\")\n",
    "\n",
    "df_loaded = pd.read_csv('image_pixel_data.csv')\n",
    "df_excluded = df_loaded.iloc[:-1, :-1]\n",
    "\n",
    "print(\"DataFrame excluding the last row and column:\")\n",
    "print(df_excluded)\n"
   ]
  },
  {
   "cell_type": "code",
   "execution_count": 113,
   "id": "c89e6ea0-a660-446a-8e86-f47158acb27f",
   "metadata": {},
   "outputs": [
    {
     "name": "stdout",
     "output_type": "stream",
     "text": [
      "original : \n",
      "  Name  Age  Salary\n",
      "0    A   20   15000\n",
      "4    E   50   21000\n",
      "\n",
      "after removing : \n",
      "  Name  Age  Salary\n",
      "0    A   20   15000\n",
      "4    E   50   21000\n"
     ]
    }
   ],
   "source": [
    "import pandas as pd\n",
    "\n",
    "dirty_data = {\n",
    "    \"Name\" : [\"A\", \"B\", \"C\", \"D\", \"E\"],\n",
    "    \"Age\" : [20, 15, 21, 7, 50],\n",
    "    \"Salary\" : [15000, 20000, -15000, -10000, 21000],\n",
    "}\n",
    "\n",
    "df = pd.DataFrame(dirty_data)\n",
    "print(f\"original : \\n{df}\")\n",
    "\n",
    "df = df.drop(df[(df.Age < 18) | (df.Salary < 0)].index)\n",
    "print(f\"\\nafter removing : \\n{df}\")"
   ]
  },
  {
   "cell_type": "code",
   "execution_count": null,
   "id": "15eda782-a458-48a3-9d8a-005dcddb92dc",
   "metadata": {},
   "outputs": [],
   "source": []
  }
 ],
 "metadata": {
  "kernelspec": {
   "display_name": "Python [conda env:base] *",
   "language": "python",
   "name": "conda-base-py"
  },
  "language_info": {
   "codemirror_mode": {
    "name": "ipython",
    "version": 3
   },
   "file_extension": ".py",
   "mimetype": "text/x-python",
   "name": "python",
   "nbconvert_exporter": "python",
   "pygments_lexer": "ipython3",
   "version": "3.12.7"
  }
 },
 "nbformat": 4,
 "nbformat_minor": 5
}
