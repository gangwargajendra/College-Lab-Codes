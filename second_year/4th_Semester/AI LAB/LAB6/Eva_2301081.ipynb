{
 "cells": [
  {
   "cell_type": "code",
   "execution_count": 12,
   "id": "e0dc1ca8-a130-4a5c-85c6-e5a773a0da23",
   "metadata": {},
   "outputs": [
    {
     "name": "stdout",
     "output_type": "stream",
     "text": [
      "steps to find result : -1\n",
      "path : \n"
     ]
    }
   ],
   "source": [
    "from collections import deque\n",
    "\n",
    "def get_new(five_jug, three_jug):\n",
    "    new_combinations = []\n",
    "    if(five_jug != 5):\n",
    "        five_jug = 5\n",
    "        new_combinations.append((five_jug, three_jug))\n",
    "    if three_jug != 3:\n",
    "        three_jug = 3\n",
    "        new_combinations.append((five_jug, three_jug))\n",
    "    if five_jug != 0:\n",
    "        five_jug = 0\n",
    "        new_combinations.append((five_jug, three_jug))\n",
    "    if three_jug != 0:\n",
    "        three_jug = 0\n",
    "        new_combinations.append((five_jug, three_jug))\n",
    "    if five_jug != 0 and three_jug != 3:\n",
    "        max_pour_water = 3 - three_jug\n",
    "        if max_pour_water <= five_jug:\n",
    "            five_jug = five_jug - max_pour_water\n",
    "            three_jug = three_jug + max_pour_water\n",
    "        else:\n",
    "            three_jug = three_jug + five_jug\n",
    "            five_jug = 0\n",
    "        new_combinations.append((five_jug, three_jug))\n",
    "    if three_jug != 0 and five_jug != 5:\n",
    "        max_pour_water = 5 - five_jug\n",
    "        if max_pour_water <= three_jug:\n",
    "            three_jug = three_jug - max_pour_water\n",
    "            five_jug = five_jug + max_pour_water\n",
    "        else:\n",
    "            five_jug = 5\n",
    "            three_jug = three_jug - (5 - five_jug)\n",
    "        new_combinations.append((five_jug, three_jug))\n",
    "    return new_combinations\n",
    "\n",
    "def bfs(five_jug, three_jug):\n",
    "    visited = set()\n",
    "    queue = deque([(five_jug, three_jug, 0, [])])\n",
    "    visited.add((five_jug, three_jug))\n",
    "\n",
    "    while queue:\n",
    "        current_five, current_three, current_step, current_path = queue.popleft()\n",
    "\n",
    "        if (current_five == 4):\n",
    "            return current_step, current_path+ [(current_five, current_three)]\n",
    "        \n",
    "        for com in get_new(current_five, current_three):\n",
    "            new_five, new_three = com\n",
    "            new_com = (new_five, new_three)\n",
    "\n",
    "            if new_com not in visited:\n",
    "                visited.add(new_com)\n",
    "                queue.append((new_five, new_three, current_step +1, current_path + [(current_five, current_three)]))\n",
    "    return -1, []\n",
    "\n",
    "steps, path = bfs(0, 0)\n",
    "print(f\"steps to find result : {steps}\")\n",
    "print(\"path : \")\n",
    "for step in path:\n",
    "    print(step)\n"
   ]
  },
  {
   "cell_type": "code",
   "execution_count": null,
   "id": "0700f063-5257-40aa-bc10-94e7d7f61ad0",
   "metadata": {},
   "outputs": [],
   "source": []
  }
 ],
 "metadata": {
  "kernelspec": {
   "display_name": "Python [conda env:base] *",
   "language": "python",
   "name": "conda-base-py"
  },
  "language_info": {
   "codemirror_mode": {
    "name": "ipython",
    "version": 3
   },
   "file_extension": ".py",
   "mimetype": "text/x-python",
   "name": "python",
   "nbconvert_exporter": "python",
   "pygments_lexer": "ipython3",
   "version": "3.12.7"
  }
 },
 "nbformat": 4,
 "nbformat_minor": 5
}
